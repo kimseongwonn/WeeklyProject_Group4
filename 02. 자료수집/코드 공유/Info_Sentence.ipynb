{
 "cells": [
  {
   "cell_type": "code",
   "execution_count": 1,
   "metadata": {},
   "outputs": [],
   "source": [
    "import pandas as pd\n",
    "import numpy as np"
   ]
  },
  {
   "cell_type": "code",
   "execution_count": 12,
   "metadata": {},
   "outputs": [],
   "source": [
    "Attraction_Info = pd.read_csv('info_data_fin.csv')\n",
    "Tour = pd.read_csv('info_tour.csv')\n",
    "Food = pd.read_csv('info_food.csv')"
   ]
  },
  {
   "cell_type": "code",
   "execution_count": 13,
   "metadata": {},
   "outputs": [],
   "source": [
    "Tour = Tour[['Attraction']].drop_duplicates()\n",
    "Food = Food[['Attraction']].drop_duplicates()"
   ]
  },
  {
   "cell_type": "code",
   "execution_count": null,
   "metadata": {},
   "outputs": [],
   "source": [
    "Attraction_Info = Attraction_Info.rename(columns={'attraction':'Attraction'})\n",
    "Attraction_Info['Attraction'] = Attraction_Info['Attraction'].str.replace('[백년가게]','')"
   ]
  },
  {
   "cell_type": "code",
   "execution_count": null,
   "metadata": {},
   "outputs": [],
   "source": [
    "Attraction_Info = Attraction_Info[Attraction_Info['location'].str.contains('서울')]\n",
    "#Tour.to_csv('Tour.csv', encoding='cp949', index=False)\n",
    "#Food.to_csv('Food.csv', encoding='cp949', index=False)\n",
    "#Attraction_Info.to_csv('info_data_fin_2.csv',index=False)"
   ]
  },
  {
   "cell_type": "markdown",
   "metadata": {},
   "source": [
    "### 관광지 정보 추가"
   ]
  },
  {
   "cell_type": "code",
   "execution_count": null,
   "metadata": {},
   "outputs": [],
   "source": [
    "\"\"\">> 추가\n",
    "'?','광화문' >> '경복궁의 정문이자 임금이 행차하는 문'\n",
    "'?','동대문종합시장' >> 원단/의류부자재,액세서리,혼수용품 및 홈인테리어\n",
    "'?','방학동도깨비시장'\n",
    "'?','북촌한옥마을' >> '600년 전 선조의 숨결이 살아숨쉬는 곳' / <누락>\n",
    "'?','스타필드 코엑스몰' >> '동시대 패션과 미식, 문화와 엔터테인먼트까지 도시의 감성이 깃든 시티 라이프의 모든 것.'\n",
    "'?','화랑대 철도공원' >> '서울의 마지막 간이역이 예쁜 불빛 정원으로'\n",
    "\"\"\""
   ]
  },
  {
   "cell_type": "markdown",
   "metadata": {},
   "source": [
    "### 크롤링 누락 (한 문장 정보가 없어서) = 각 홈페이지 및 나무위키, 사전을 참고하여 추가"
   ]
  },
  {
   "cell_type": "code",
   "execution_count": null,
   "metadata": {},
   "outputs": [
    {
     "name": "stderr",
     "output_type": "stream",
     "text": [
      "C:\\Users\\taeyoung\\AppData\\Local\\Temp\\ipykernel_10876\\183767519.py:1: SettingWithCopyWarning: \n",
      "A value is trying to be set on a copy of a slice from a DataFrame\n",
      "\n",
      "See the caveats in the documentation: https://pandas.pydata.org/pandas-docs/stable/user_guide/indexing.html#returning-a-view-versus-a-copy\n",
      "  Attraction_Info.loc[len(Attraction_Info)+10] = ['광화문','서울 종로구','경복궁의 정문이자 임금이 행차하는 문']\n"
     ]
    }
   ],
   "source": [
    "Attraction_Info.loc[len(Attraction_Info)+10] = ['광화문','서울 종로구','경복궁의 정문이자 임금이 행차하는 문']\n",
    "Attraction_Info.loc[len(Attraction_Info)+10] = ['국립중앙박물관','서울 용산구','과거와 현재, 미래가 공존하는 감동의 공간']\n",
    "\n",
    "add1 = ['동대문종합시장','방학동도깨비시장','북촌한옥마을','스타필드 코엑스몰','화랑대 철도공원']\n",
    "add2 = ['서울 종로구','서울 도봉구','서울종로구','서울 강남구','서울 노원구']\n",
    "add3 = ['원단/의류부자재,액세서리,혼수용품 및 홈인테리어','좋은 상품을 저렴한 가격에 판매 전통시장','600년 전 선조의 숨결이 살아숨쉬는 곳',\n",
    "        '동시대 패션과 미식, 문화와 엔터테인먼트까지 도시의 감성이 깃든 시티 라이프의 모든 것.','서울의 마지막 간이역이 예쁜 불빛 정원으로']\n",
    "\n",
    "for i in range(len(add1)):\n",
    "    Attraction_Info.loc[len(Attraction_Info)+10] = [add1[i],add2[i],add3[i]]"
   ]
  },
  {
   "cell_type": "code",
   "execution_count": 80,
   "metadata": {},
   "outputs": [],
   "source": [
    "Attraction_Info_change = Attraction_Info.copy()"
   ]
  },
  {
   "cell_type": "code",
   "execution_count": 81,
   "metadata": {},
   "outputs": [],
   "source": [
    "Attraction_Info_Value_Rename = Attraction_Info_change.replace({\n",
    "'해병대104고지전적비':'104고지전적비',\n",
    "'간송미술관(서울 보화각)':'간송미술관',\n",
    "'갤러리아백화점 명품관':'갤러리아백화점명품관EAST',\n",
    "'경의선숲길(연트럴파크)':'경의선숲길',\n",
    "'고투몰(강남터미널 지하도상가)':'고투몰',\n",
    "'한국공예관':'관훈동 한국공예관',\n",
    "'구로 중앙유통단지':'구로중앙유통단지',\n",
    "'남산공원(서울)':'남산공원',\n",
    "'네이처리퍼블릭 (명동월드점)':'네이처리퍼블릭 명동월드점',\n",
    "'돌실나이(인사점)':'돌실나이 본사할인점',\n",
    "'두산타워 (doota)':'두타몰',\n",
    "'롯데쇼핑 롯데아울렛 서울역점[한국관광 품질인증/Korea Quality]':'롯데아울렛 서울역점',\n",
    "'롯데월드타워&롯데월드몰':'롯데월드몰',\n",
    "'마천시장':'마천중앙시장',\n",
    "'하늘공원':'마포구하늘공원',\n",
    "'망우리 시민공원':'망우 역사 문화공원',\n",
    "'목3동시장(목동깨비시장)': '목3동시장',\n",
    "'목동운동장(목동아이스링크,사격장)':'목동종합운동장실내아이스링크',\n",
    "'서울 몽촌토성':'몽촌토성',\n",
    "'밀리오레 (동대문점)':'밀리오레',\n",
    "'봉화산(서울)':'봉화산',\n",
    "'[북악하늘길 1산책로] 북악팔각정~말바위쉼터':'북악팔각정',\n",
    "'브릿지안경[한국관광 품질인증/Korea Quality]':'브릿지안경',\n",
    "'서울마리나 요트&클럽':'서울마리나',\n",
    "'청계광장':'서울청계광장',\n",
    "'송파나루공원(석촌호수)':'석촌호수',\n",
    "'서울 선릉과정릉 [유네스코 세계유산]':'선정릉',\n",
    "'설화수 플래그십 스토어':'설화수 도산 플래그십 스토어',\n",
    "'세인트제임스 삼청점[한국관광 품질인증/Korea Quality]':'세인트제임스 삼청점',\n",
    "'세인트제임스 서울[한국관광 품질인증/Korea Quality]':'세인트제임스 서울',\n",
    "'세종대왕 동상':'세종대왕동상',\n",
    "'세란안경[한국관광 품질인증/Korea Quality]':'소공동세란안경',\n",
    "'서울 약령시장':'약령시장',\n",
    "'양천공원(통합놀이터,키지트,베이비존)':'양천공원',\n",
    "'오금공원':'오금오름공원',\n",
    "'용마공원놀이동산(용마랜드)':'용마랜드',\n",
    "'용산공원 (옛 미군기지)':'용산공원 반환부지',\n",
    "'우표박물관 (구.우표문화누리)':'우표박물관',\n",
    "'충무공 이순신 동상':'이순신장군동상',\n",
    "'서울 정릉(신덕왕후) [유네스코 세계유산]':'정릉(신덕왕후)',\n",
    "'떡박물관':'종로 떡박물관',\n",
    "'콰니 (KWANI)':'종로구콰니',\n",
    "'종묘 [유네스코 세계유산]':'종묘',\n",
    "'창경궁 명정전':'창경궁',\n",
    "'창덕궁과 후원 [유네스코 세계유산]':'창덕궁',\n",
    "'창의문(자하문)':'창의문',\n",
    "'테크노마트 강변점':'테크노마트',\n",
    "'통인가게':'통인가게 미술',\n",
    "'플랫폼 플레이스(한남점)[한국관광 품질인증/Korea Quality]':'플랫폼 플레이스(한남점)',\n",
    "'하모니마트 명동역점[한국관광 품질인증/Korea Quality]':'하모니마트 명동역점',\n",
    "'한강시민공원 뚝섬지구(뚝섬한강공원)':'한강시민공원 뚝섬지구',\n",
    "'신한은행 한국금융사박물관':'한국금융사박물관',\n",
    "'화폐박물관':'한국은행 화폐박물관',\n",
    "'한국관광명품점(인사동)':'한국전통관광명품점',\n",
    "'홍파동 홍난파 가옥':'홍난파가옥',\n",
    "'환구단':'황궁우',\n",
    "'AK&홍대':'AK PLAZA 홍대',\n",
    "'남산서울타워':'N서울타워'\n",
    "})"
   ]
  },
  {
   "cell_type": "code",
   "execution_count": 89,
   "metadata": {},
   "outputs": [],
   "source": [
    "merged_Tour = pd.merge(Attraction_Info_Value_Rename, Tour, on='Attraction', how='inner')"
   ]
  },
  {
   "cell_type": "markdown",
   "metadata": {},
   "source": [
    "### out 얼마나 있나 확인"
   ]
  },
  {
   "cell_type": "code",
   "execution_count": 91,
   "metadata": {},
   "outputs": [
    {
     "data": {
      "text/plain": [
       "0"
      ]
     },
     "execution_count": 91,
     "metadata": {},
     "output_type": "execute_result"
    }
   ],
   "source": [
    "add_word = []\n",
    "for word in Tour['Attraction']:\n",
    "    if word in merged_Tour['Attraction'].tolist():\n",
    "        continue\n",
    "    else:\n",
    "        add_word.append(word)\n",
    "len(add_word)"
   ]
  },
  {
   "cell_type": "code",
   "execution_count": null,
   "metadata": {},
   "outputs": [],
   "source": [
    "merged_Tour['Attraction'] = merged_Tour['Attraction'].drop_duplicates()\n",
    "merged_Tour.dropna()"
   ]
  },
  {
   "cell_type": "code",
   "execution_count": 104,
   "metadata": {},
   "outputs": [],
   "source": [
    "merged_Tour.to_csv('Merged_Tour.csv',index=False)"
   ]
  },
  {
   "cell_type": "markdown",
   "metadata": {},
   "source": [
    "### 음식 정보 추가"
   ]
  },
  {
   "cell_type": "code",
   "execution_count": 155,
   "metadata": {},
   "outputs": [],
   "source": [
    "Food_Info_1 = Attraction_Info_change.copy()"
   ]
  },
  {
   "cell_type": "markdown",
   "metadata": {},
   "source": [
    "### 크롤링 누락 (한 문장 정보가 없어서) = 각 홈페이지 및 나무위키, 사전을 참고하여 추가"
   ]
  },
  {
   "cell_type": "code",
   "execution_count": 157,
   "metadata": {},
   "outputs": [],
   "source": [
    "# 추가\n",
    "add1 = ['중구 베테랑칼국수','메이징에이','청해진(강동구)','인터컨티넨탈 서울 코엑스 스카이 라운지']\n",
    "add2 = ['서울 중구','서울 중구','서울 강동구','서울 강남구']\n",
    "add3 = ['메뉴는 칼국수, 만두, 쫄면 3가지로 계란과 김을 푼 국물에 고춧가루와 들깨가루를 듬뿍 뿌린 고소한 맛이 특징인 칼국수가 인기 메뉴이다.',\n",
    "        '광동요리 전문 고급스러운 중식당', '중소벤처기업부 인증 백년가게',\n",
    "        '서울의 아름다운 분위기를 한 눈에 감상할 수 있는 최고의 장소',\n",
    "        ]\n",
    "\n",
    "for i in range(len(add1)):\n",
    "    Food_Info_1.loc[len(Food_Info_1)+10] = [add1[i],add2[i],add3[i]]"
   ]
  },
  {
   "cell_type": "code",
   "execution_count": 159,
   "metadata": {},
   "outputs": [],
   "source": [
    "Food_Info_Value_Rename = Food_Info_1.replace({\n",
    "    '성수동 대림창고 갤러리':'대림창고',\n",
    "    '삼거리 먼지막 순대국':'삼거리먼지막순대국',\n",
    "    '세종한우정육점식당  2호점':'세종한우정육점식당 2호점',\n",
    "    '도넛정수':'도넛정수 창신',\n",
    "    '고성막국수':'강서구 고성막국수',\n",
    "    '할아버지공장':'카페 할아버지공장',\n",
    "    '남도분식':'남도분식 익선점',\n",
    "    '두가헌':'두가헌 레스토랑',\n",
    "    '스미스가 좋아하는 한옥':'스미스가좋아하는한옥',\n",
    "    '해주냉면':'해주냉면 본점',\n",
    "    '평창동 북악정':'평창동북악정 신관',\n",
    "    '코코넛박스':'코코넛박스 카페',\n",
    "    '동방명주':'동방명주 충무로점',\n",
    "    '서당골':'강북구 서당골',\n",
    "    '뉴욕뉴욕(켄싱턴호텔)':'켄싱턴호텔 여의도 뉴욕뉴욕',\n",
    "    '꽃,밥에피다':'꽃밥에피다',\n",
    "    '패션5(Passion 5)':'패션5',\n",
    "    '오늘손칼국수&찜 강동본점':'강동 오늘손칼국수',\n",
    "    '일일향(日日香)':'일일향 논현2호점',\n",
    "    '노랑저고리':'서초동노랑저고리',\n",
    "    '송원':'중구 송원',\n",
    "    '카페엠(Cafe M)':'강남구 카페엠',\n",
    "    '강강술래 신림동':'강강술래신림본동점',\n",
    "    '춘천옥':'금천구춘천옥',\n",
    "    '수빈':'서대문수빈',\n",
    "    '백리향':'여의도백리향',\n",
    "    '횡성한우':'송파구횡성한우',\n",
    "    '대문':'도봉구대문한정식',\n",
    "    '형제갈비':'서대문구형제갈비',\n",
    "    '왕타이(WANGTHAI)':'WANGTHAI',\n",
    "    '살라댕템플':'성수살라댕템플',\n",
    "    '산촌':'관훈동 산촌',\n",
    "    '푸드떼':'사간동푸드떼',\n",
    "    '삼다코지':'마포삼다코지',\n",
    "    '중앙해장':'대치동중앙해장',\n",
    "    '성북동돼지갈비':'성북동돼지갈비본점',\n",
    "    '황도바지락칼국수':'강동황도바지락칼국수',\n",
    "    '금왕돈까스':'금왕돈까스 본점',\n",
    "    '통나무집':'서초구통나무집',\n",
    "    '도일처':'강서도일처',\n",
    "    '곰바위':'강남곰바위',\n",
    "    '밀림':'종로구밀림',\n",
    "    '기와':'용산구기와',\n",
    "    '가문':'수유동가문',\n",
    "    '서래본가':'서래본갈비',\n",
    "    '그리츠(GREETS) 글래드호텔 여의도':'그리츠 레스토랑',\n",
    "    '광장싸롱':'광장싸롱 1961',\n",
    "    '또순이':'안성또순이',\n",
    "    '카페 모뜨':'모뜨',\n",
    "    '이화감자국':'원조이화감자국',\n",
    "    '산띠':'산띠 서교점',\n",
    "    '옛찻집':'신옛찻집',\n",
    "    '엘 샌드위치':'엘샌드위치 종로점',\n",
    "    '유닭스토리 닭한마리 신촌점':'신촌 닭한마리 유닭스토리',\n",
    "    '타지펠리스':'타지펠리스 이태원점',\n",
    "    '비하인드(B-hind)':'비하인드',\n",
    "    '파툼(FATUM)':'파툼',\n",
    "    '챠크라':'챠크라 한남점',\n",
    "    '이끼롤까스 가로수길':'이끼롤까스 가로수길본점',\n",
    "    '남원황토추어탕':'황토추어탕',\n",
    "    '해담채 삼성포스코점':'해담채 삼성점',\n",
    "    '까사빠보(구 호무랑)':'까사빠보 신세계백화점본점',\n",
    "    '더이터리(포 포인츠 바이 쉐라톤 서울 남산호텔)':'포포인츠 바이 쉐라톤 조선 서울역 더 이터리',\n",
    "    '오양회참치':'오양회참치 광화문본점',\n",
    "    \"에이치 450(h' 450)\":'h450'\n",
    "})"
   ]
  },
  {
   "cell_type": "code",
   "execution_count": 161,
   "metadata": {},
   "outputs": [],
   "source": [
    "merged_Food = pd.merge(Food, Food_Info_Value_Rename, on='Attraction', how='inner')"
   ]
  },
  {
   "cell_type": "markdown",
   "metadata": {},
   "source": [
    "### out 확인"
   ]
  },
  {
   "cell_type": "code",
   "execution_count": 163,
   "metadata": {},
   "outputs": [
    {
     "data": {
      "text/plain": [
       "0"
      ]
     },
     "execution_count": 163,
     "metadata": {},
     "output_type": "execute_result"
    }
   ],
   "source": [
    "add_word = []\n",
    "for word in Food['Attraction']:\n",
    "    if word in Food_Info_Value_Rename['Attraction'].tolist():\n",
    "        continue\n",
    "    else:\n",
    "        add_word.append(word)\n",
    "len(add_word)"
   ]
  },
  {
   "cell_type": "code",
   "execution_count": 166,
   "metadata": {},
   "outputs": [],
   "source": [
    "merged_Food['Attraction'] = merged_Food['Attraction'].drop_duplicates()"
   ]
  },
  {
   "cell_type": "code",
   "execution_count": 178,
   "metadata": {},
   "outputs": [],
   "source": [
    "merged_Food = merged_Food.dropna()"
   ]
  },
  {
   "cell_type": "code",
   "execution_count": 180,
   "metadata": {},
   "outputs": [
    {
     "name": "stdout",
     "output_type": "stream",
     "text": [
      "<class 'pandas.core.frame.DataFrame'>\n",
      "Index: 449 entries, 0 to 450\n",
      "Data columns (total 3 columns):\n",
      " #   Column      Non-Null Count  Dtype \n",
      "---  ------      --------------  ----- \n",
      " 0   Attraction  449 non-null    object\n",
      " 1   location    449 non-null    object\n",
      " 2   info        449 non-null    object\n",
      "dtypes: object(3)\n",
      "memory usage: 14.0+ KB\n"
     ]
    }
   ],
   "source": [
    "merged_Food.info()"
   ]
  },
  {
   "cell_type": "code",
   "execution_count": 1,
   "metadata": {},
   "outputs": [
    {
     "ename": "NameError",
     "evalue": "name 'merged_Food' is not defined",
     "output_type": "error",
     "traceback": [
      "\u001b[1;31m---------------------------------------------------------------------------\u001b[0m",
      "\u001b[1;31mNameError\u001b[0m                                 Traceback (most recent call last)",
      "Cell \u001b[1;32mIn[1], line 1\u001b[0m\n\u001b[1;32m----> 1\u001b[0m \u001b[43mmerged_Food\u001b[49m\u001b[38;5;241m.\u001b[39mto_csv(\u001b[38;5;124m'\u001b[39m\u001b[38;5;124mmerged_Food.csv\u001b[39m\u001b[38;5;124m'\u001b[39m,encoding\u001b[38;5;241m=\u001b[39m\u001b[38;5;124m'\u001b[39m\u001b[38;5;124mutf-8\u001b[39m\u001b[38;5;124m'\u001b[39m,index\u001b[38;5;241m=\u001b[39m\u001b[38;5;28;01mFalse\u001b[39;00m)\n",
      "\u001b[1;31mNameError\u001b[0m: name 'merged_Food' is not defined"
     ]
    }
   ],
   "source": [
    "merged_Food.to_csv('merged_Food.csv',encoding='cp949',index=False)"
   ]
  }
 ],
 "metadata": {
  "kernelspec": {
   "display_name": "Python 3",
   "language": "python",
   "name": "python3"
  },
  "language_info": {
   "codemirror_mode": {
    "name": "ipython",
    "version": 3
   },
   "file_extension": ".py",
   "mimetype": "text/x-python",
   "name": "python",
   "nbconvert_exporter": "python",
   "pygments_lexer": "ipython3",
   "version": "3.12.0"
  }
 },
 "nbformat": 4,
 "nbformat_minor": 2
}
