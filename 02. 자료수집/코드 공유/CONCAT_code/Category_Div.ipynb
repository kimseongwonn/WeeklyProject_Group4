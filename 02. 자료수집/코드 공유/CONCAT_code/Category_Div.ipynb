{
 "cells": [
  {
   "cell_type": "code",
   "execution_count": 19,
   "metadata": {},
   "outputs": [],
   "source": [
    "import pandas as pd"
   ]
  },
  {
   "cell_type": "code",
   "execution_count": 72,
   "metadata": {},
   "outputs": [],
   "source": [
    "raw = pd.read_csv('Review_Final_v2.csv', encoding='cp949')"
   ]
  },
  {
   "cell_type": "code",
   "execution_count": 73,
   "metadata": {},
   "outputs": [],
   "source": [
    "df = raw.copy()"
   ]
  },
  {
   "cell_type": "code",
   "execution_count": 74,
   "metadata": {},
   "outputs": [],
   "source": [
    "df['Category'] = df['Subclass']"
   ]
  },
  {
   "cell_type": "code",
   "execution_count": 75,
   "metadata": {},
   "outputs": [],
   "source": [
    "condition_2 = ['Attraction','Category' , 'Subclass', 'Address', 'Participants']\n",
    "df = df[condition_2]"
   ]
  },
  {
   "cell_type": "markdown",
   "metadata": {},
   "source": [
    "### 제거 요망 - 경의선책거리(편의점임)\n",
    "### 음식 \n",
    "- '탕|고기|구이|요리|한식|떡볶이|카페|밥|족발|냉면|국수|베이커리|순대|다방|해물찜|정육|차|냉|스테이크|떡|만두|돈가스|죽|뷔페|회|해장국|곱창|찌개|브런치|샤브|해담채|BAR|라면|빙수|샌드위치|양꼬치|갈비|맥주|주점|베이글'\n",
    "\n",
    "\n",
    "['도시,테마공원', '음식', '전망대', '숲,숲길', '궁궐', '테마파크', '세계문화유산', '자연,생태공원',\n",
    "       '시장', '지역명소', '근린공원', '박물관', '기념물', '쇼핑복합시설', '호수,연못,저수지', '강,하천',\n",
    "       '체험마을', '도보코스', '시민공원', '문화,유적', '거리,골목', '백화점', '섬', '테마공원',\n",
    "       '성곽명', '숙소', '산', '문구,팬시용품', '전시관', '캠핑,야영장', '화장품,향수', '상가,아케이드',\n",
    "       '아쿠아리움', '국가유산', '쇼핑센터,할인매장', '워터파크', '도시, 테마공원', '스케이트장', '수영장',\n",
    "       '서점', '장난감', '찜질방', '상가, 아케이드', '자연공원', '유적지,사적지', '관람,체험',\n",
    "       '아이스링크', '선글라스', '사진,스튜디오', '인테리어소품', '온천,스파', '편의점', '광장',\n",
    "       '원예,화훼농원', '패션', '한복', '보물', '전통숙소', '아울렛', '촬영장소', '미술,공예품',\n",
    "       '게스트하우스', '박물', '신발', '눈썰매장', '낚시', '독립서점', '요트', '슈퍼,마트',\n",
    "       '스크린골프장', '안경원', '전통공예', '계곡', '종합패션', '면세점', '캐주얼웨어', '메이크업',\n",
    "       '가방,핸드백', '휴대폰', '피부,체형관리', '가구,인테리어', '컴퓨터,모니터', '한복대여', '봉우리,고지',\n",
    "       '유기농산물마트', '동물원', '음반,CD', '결혼예물', '스킨스쿠버']\n",
    "\n",
    "### 숙소\n",
    "게스트하우스|전통숙소|급|텔\n",
    "### 관광\n",
    "숙소 / 음식 제외"
   ]
  },
  {
   "cell_type": "code",
   "execution_count": 76,
   "metadata": {},
   "outputs": [],
   "source": [
    "df.loc[df['Category'].str.contains('음식|탕|고기|구이|요리|분식|한식|일식|중식|양식|떡볶이|카페|기사식당|밥|족발|냉면|국수|한정식|베이커리|순대|다방|해물찜|정육|차|냉|스테이크|떡|만두|돈가스|죽|뷔페|회|해장국|곱창|찌개|브런치|샤브|해담채|BAR|라면|빙수|샌드위치|양꼬치|갈비|맥주|주점|베이글'), 'Category'] = '음식'\n",
    "df.loc[df['Category'].str.contains('게스트하우스|전통숙소|급|텔'), 'Category'] = '숙소'\n",
    "df.loc[~df['Category'].str.contains('음식|숙소'), 'Category'] = '관광'"
   ]
  },
  {
   "cell_type": "code",
   "execution_count": 79,
   "metadata": {},
   "outputs": [],
   "source": [
    "df.to_csv('Category_subclass_v2.csv', encoding='cp949', index=False)"
   ]
  },
  {
   "cell_type": "code",
   "execution_count": null,
   "metadata": {},
   "outputs": [],
   "source": []
  }
 ],
 "metadata": {
  "kernelspec": {
   "display_name": "Python 3",
   "language": "python",
   "name": "python3"
  },
  "language_info": {
   "codemirror_mode": {
    "name": "ipython",
    "version": 3
   },
   "file_extension": ".py",
   "mimetype": "text/x-python",
   "name": "python",
   "nbconvert_exporter": "python",
   "pygments_lexer": "ipython3",
   "version": "3.12.0"
  }
 },
 "nbformat": 4,
 "nbformat_minor": 2
}
