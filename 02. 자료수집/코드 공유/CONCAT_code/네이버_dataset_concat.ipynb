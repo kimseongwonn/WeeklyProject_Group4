{
 "cells": [
  {
   "cell_type": "code",
   "execution_count": 95,
   "metadata": {},
   "outputs": [],
   "source": [
    "import pandas as pd"
   ]
  },
  {
   "cell_type": "code",
   "execution_count": 135,
   "metadata": {},
   "outputs": [],
   "source": [
    "Naver_1_50 = pd.read_csv('네이버_1-50_태영.csv',encoding='cp949')\n",
    "Naver_51_100 = pd.read_csv('네이버_51-100_지우.csv',encoding='cp949')\n",
    "Naver_101_600 = pd.read_csv('네이버_101-600_수린.csv',encoding='utf-8')\n",
    "Naver_601_1100 = pd.read_csv('네이버_601-1100_지우.csv',encoding='cp949')\n",
    "Naver_1101_1600 = pd.read_csv('네이버_1101-1600_태영.csv',encoding='cp949')\n",
    "Naver_1601_2100 = pd.read_csv('네이버_1601-2100_성원.csv',encoding='cp949')"
   ]
  },
  {
   "cell_type": "markdown",
   "metadata": {},
   "source": [
    "### 쉽게 걸러주기 위해 select_people 맞춰줌"
   ]
  },
  {
   "cell_type": "code",
   "execution_count": 136,
   "metadata": {},
   "outputs": [
    {
     "data": {
      "text/html": [
       "<div>\n",
       "<style scoped>\n",
       "    .dataframe tbody tr th:only-of-type {\n",
       "        vertical-align: middle;\n",
       "    }\n",
       "\n",
       "    .dataframe tbody tr th {\n",
       "        vertical-align: top;\n",
       "    }\n",
       "\n",
       "    .dataframe thead th {\n",
       "        text-align: right;\n",
       "    }\n",
       "</style>\n",
       "<table border=\"1\" class=\"dataframe\">\n",
       "  <thead>\n",
       "    <tr style=\"text-align: right;\">\n",
       "      <th></th>\n",
       "      <th>tourist_spot</th>\n",
       "      <th>목록</th>\n",
       "      <th>good_point</th>\n",
       "      <th>selected_people</th>\n",
       "    </tr>\n",
       "  </thead>\n",
       "  <tbody>\n",
       "    <tr>\n",
       "      <th>0</th>\n",
       "      <td>서울어린이대공원</td>\n",
       "      <td>테마파크</td>\n",
       "      <td>\"아이와 가기 좋아요\"</td>\n",
       "      <td>이 키워드를 선택한 인원\\n1964</td>\n",
       "    </tr>\n",
       "    <tr>\n",
       "      <th>1</th>\n",
       "      <td>서울어린이대공원</td>\n",
       "      <td>테마파크</td>\n",
       "      <td>\"가격이 합리적이에요\"</td>\n",
       "      <td>이 키워드를 선택한 인원\\n1403</td>\n",
       "    </tr>\n",
       "    <tr>\n",
       "      <th>2</th>\n",
       "      <td>서울어린이대공원</td>\n",
       "      <td>테마파크</td>\n",
       "      <td>\"놀이기구가 다양해요\"</td>\n",
       "      <td>이 키워드를 선택한 인원\\n861</td>\n",
       "    </tr>\n",
       "    <tr>\n",
       "      <th>3</th>\n",
       "      <td>서울어린이대공원</td>\n",
       "      <td>테마파크</td>\n",
       "      <td>\"볼거리가 많아요\"</td>\n",
       "      <td>이 키워드를 선택한 인원\\n824</td>\n",
       "    </tr>\n",
       "    <tr>\n",
       "      <th>4</th>\n",
       "      <td>서울어린이대공원</td>\n",
       "      <td>테마파크</td>\n",
       "      <td>\"주차하기 편해요\"</td>\n",
       "      <td>이 키워드를 선택한 인원\\n489</td>\n",
       "    </tr>\n",
       "    <tr>\n",
       "      <th>...</th>\n",
       "      <td>...</td>\n",
       "      <td>...</td>\n",
       "      <td>...</td>\n",
       "      <td>...</td>\n",
       "    </tr>\n",
       "    <tr>\n",
       "      <th>3065</th>\n",
       "      <td>간송미술관</td>\n",
       "      <td>박물</td>\n",
       "      <td>\"전시 테마가 재밌어요\"</td>\n",
       "      <td>이 키워드를 선택한 인원\\n2</td>\n",
       "    </tr>\n",
       "    <tr>\n",
       "      <th>3066</th>\n",
       "      <td>간송미술관</td>\n",
       "      <td>박물</td>\n",
       "      <td>\"아이와 가기 좋아요\"</td>\n",
       "      <td>이 키워드를 선택한 인원\\n2</td>\n",
       "    </tr>\n",
       "    <tr>\n",
       "      <th>3067</th>\n",
       "      <td>간송미술관</td>\n",
       "      <td>박물</td>\n",
       "      <td>\"주차하기 편해요\"</td>\n",
       "      <td>이 키워드를 선택한 인원\\n2</td>\n",
       "    </tr>\n",
       "    <tr>\n",
       "      <th>3068</th>\n",
       "      <td>간송미술관</td>\n",
       "      <td>박물</td>\n",
       "      <td>\"사진이 잘 나와요\"</td>\n",
       "      <td>이 키워드를 선택한 인원\\n1</td>\n",
       "    </tr>\n",
       "    <tr>\n",
       "      <th>3069</th>\n",
       "      <td>간송미술관</td>\n",
       "      <td>박물</td>\n",
       "      <td>\"공간이 넓어요\"</td>\n",
       "      <td>이 키워드를 선택한 인원\\n1</td>\n",
       "    </tr>\n",
       "  </tbody>\n",
       "</table>\n",
       "<p>3070 rows × 4 columns</p>\n",
       "</div>"
      ],
      "text/plain": [
       "     tourist_spot    목록     good_point      selected_people\n",
       "0        서울어린이대공원  테마파크   \"아이와 가기 좋아요\"  이 키워드를 선택한 인원\\n1964\n",
       "1        서울어린이대공원  테마파크   \"가격이 합리적이에요\"  이 키워드를 선택한 인원\\n1403\n",
       "2        서울어린이대공원  테마파크   \"놀이기구가 다양해요\"   이 키워드를 선택한 인원\\n861\n",
       "3        서울어린이대공원  테마파크     \"볼거리가 많아요\"   이 키워드를 선택한 인원\\n824\n",
       "4        서울어린이대공원  테마파크     \"주차하기 편해요\"   이 키워드를 선택한 인원\\n489\n",
       "...           ...   ...            ...                  ...\n",
       "3065        간송미술관    박물  \"전시 테마가 재밌어요\"     이 키워드를 선택한 인원\\n2\n",
       "3066        간송미술관    박물   \"아이와 가기 좋아요\"     이 키워드를 선택한 인원\\n2\n",
       "3067        간송미술관    박물     \"주차하기 편해요\"     이 키워드를 선택한 인원\\n2\n",
       "3068        간송미술관    박물    \"사진이 잘 나와요\"     이 키워드를 선택한 인원\\n1\n",
       "3069        간송미술관    박물      \"공간이 넓어요\"     이 키워드를 선택한 인원\\n1\n",
       "\n",
       "[3070 rows x 4 columns]"
      ]
     },
     "execution_count": 136,
     "metadata": {},
     "output_type": "execute_result"
    }
   ],
   "source": [
    "# 이 키워드를 선택한 인원\\n\n",
    "Naver_101_600['selected_people'] = '이 키워드를 선택한 인원\\n' + Naver_101_600['selected_people'].astype(str)\n",
    "Naver_101_600"
   ]
  },
  {
   "cell_type": "markdown",
   "metadata": {},
   "source": [
    "### 총 갯수 확인"
   ]
  },
  {
   "cell_type": "code",
   "execution_count": 137,
   "metadata": {},
   "outputs": [
    {
     "data": {
      "text/plain": [
       "17740"
      ]
     },
     "execution_count": 137,
     "metadata": {},
     "output_type": "execute_result"
    }
   ],
   "source": [
    "sum_data_1 = [Naver_1_50, Naver_51_100, Naver_101_600, Naver_601_1100, Naver_1101_1600, Naver_1601_2100]\n",
    "\n",
    "total_naver_rows = sum(len(df) for df in sum_data_1)\n",
    "total_naver_rows"
   ]
  },
  {
   "cell_type": "markdown",
   "metadata": {},
   "source": [
    "### 컬럼 확인"
   ]
  },
  {
   "cell_type": "code",
   "execution_count": 138,
   "metadata": {},
   "outputs": [
    {
     "name": "stdout",
     "output_type": "stream",
     "text": [
      "Index(['tourist_spot', 'spot_arrtribute', 'good_point', 'selected_people'], dtype='object')\n",
      "Index(['Unnamed: 0', 'tourist_spot', 'good_point', 'selected_people'], dtype='object')\n",
      "Index(['tourist_spot', '목록', 'good_point', 'selected_people'], dtype='object')\n",
      "Index(['Unnamed: 0', 'tourist_spot', 'good_point', 'selected_people'], dtype='object')\n",
      "Index(['Unnamed: 0', 'tourist_spot', 'spot_arrtribute', 'good_point',\n",
      "       'selected_people'],\n",
      "      dtype='object')\n",
      "Index(['tourist_spot', 'spot_arrtribute', 'good_point', 'selected_people'], dtype='object')\n"
     ]
    }
   ],
   "source": [
    "print(Naver_1_50.columns)\n",
    "print(Naver_51_100.columns)\n",
    "print(Naver_101_600.columns)\n",
    "print(Naver_601_1100.columns)\n",
    "print(Naver_1101_1600.columns)\n",
    "print(Naver_1601_2100.columns)"
   ]
  },
  {
   "cell_type": "code",
   "execution_count": 139,
   "metadata": {},
   "outputs": [
    {
     "data": {
      "text/html": [
       "<div>\n",
       "<style scoped>\n",
       "    .dataframe tbody tr th:only-of-type {\n",
       "        vertical-align: middle;\n",
       "    }\n",
       "\n",
       "    .dataframe tbody tr th {\n",
       "        vertical-align: top;\n",
       "    }\n",
       "\n",
       "    .dataframe thead th {\n",
       "        text-align: right;\n",
       "    }\n",
       "</style>\n",
       "<table border=\"1\" class=\"dataframe\">\n",
       "  <thead>\n",
       "    <tr style=\"text-align: right;\">\n",
       "      <th></th>\n",
       "      <th>tourist_spot</th>\n",
       "      <th>목록</th>\n",
       "      <th>good_point</th>\n",
       "      <th>selected_people</th>\n",
       "    </tr>\n",
       "  </thead>\n",
       "  <tbody>\n",
       "    <tr>\n",
       "      <th>0</th>\n",
       "      <td>서울어린이대공원</td>\n",
       "      <td>테마파크</td>\n",
       "      <td>\"아이와 가기 좋아요\"</td>\n",
       "      <td>이 키워드를 선택한 인원\\n1964</td>\n",
       "    </tr>\n",
       "    <tr>\n",
       "      <th>1</th>\n",
       "      <td>서울어린이대공원</td>\n",
       "      <td>테마파크</td>\n",
       "      <td>\"가격이 합리적이에요\"</td>\n",
       "      <td>이 키워드를 선택한 인원\\n1403</td>\n",
       "    </tr>\n",
       "    <tr>\n",
       "      <th>2</th>\n",
       "      <td>서울어린이대공원</td>\n",
       "      <td>테마파크</td>\n",
       "      <td>\"놀이기구가 다양해요\"</td>\n",
       "      <td>이 키워드를 선택한 인원\\n861</td>\n",
       "    </tr>\n",
       "  </tbody>\n",
       "</table>\n",
       "</div>"
      ],
      "text/plain": [
       "  tourist_spot    목록    good_point      selected_people\n",
       "0     서울어린이대공원  테마파크  \"아이와 가기 좋아요\"  이 키워드를 선택한 인원\\n1964\n",
       "1     서울어린이대공원  테마파크  \"가격이 합리적이에요\"  이 키워드를 선택한 인원\\n1403\n",
       "2     서울어린이대공원  테마파크  \"놀이기구가 다양해요\"   이 키워드를 선택한 인원\\n861"
      ]
     },
     "execution_count": 139,
     "metadata": {},
     "output_type": "execute_result"
    }
   ],
   "source": [
    "Naver_101_600.head(3)"
   ]
  },
  {
   "cell_type": "markdown",
   "metadata": {},
   "source": [
    "### 컬럼 변경 및 통일하기"
   ]
  },
  {
   "cell_type": "code",
   "execution_count": 140,
   "metadata": {},
   "outputs": [],
   "source": [
    "# Attraction, Subclass, Good_Point, Selected_People\n",
    "def Change_Col_Names(*Variable_Name):\n",
    "    for k in Variable_Name:\n",
    "        k.rename(columns={'tourist_spot': 'Attraction',\n",
    "                        'spot_arrtribute': 'Subclass',\n",
    "                        'good_point': 'Good_Point',\n",
    "                        'selected_people':'Selected_People',\n",
    "                        '목록':'Subclass',\n",
    "                        }, inplace=True)\n",
    "        k.reset_index(drop = True, inplace=True)\n",
    "\n",
    "Change_Col_Names(Naver_1_50, Naver_51_100, Naver_101_600, Naver_601_1100, Naver_1101_1600, Naver_1601_2100)"
   ]
  },
  {
   "cell_type": "markdown",
   "metadata": {},
   "source": [
    "### 필요한 컬럼만 사용"
   ]
  },
  {
   "cell_type": "code",
   "execution_count": 141,
   "metadata": {},
   "outputs": [],
   "source": [
    "condition = ['Attraction','Good_Point', 'Selected_People']\n",
    "\n",
    "Naver_1_50 = Naver_1_50[condition]\n",
    "Naver_51_100 = Naver_51_100[condition]\n",
    "Naver_101_600 = Naver_101_600[condition]\n",
    "Naver_601_1100 = Naver_601_1100[condition]\n",
    "Naver_1101_1600 = Naver_1101_1600[condition]\n",
    "Naver_1601_2100 = Naver_1601_2100[condition]\n"
   ]
  },
  {
   "cell_type": "markdown",
   "metadata": {},
   "source": [
    "### 컬럼 확인"
   ]
  },
  {
   "cell_type": "code",
   "execution_count": 142,
   "metadata": {},
   "outputs": [
    {
     "name": "stdout",
     "output_type": "stream",
     "text": [
      "Index(['Attraction', 'Good_Point', 'Selected_People'], dtype='object')\n",
      "Index(['Attraction', 'Good_Point', 'Selected_People'], dtype='object')\n",
      "Index(['Attraction', 'Good_Point', 'Selected_People'], dtype='object')\n",
      "Index(['Attraction', 'Good_Point', 'Selected_People'], dtype='object')\n",
      "Index(['Attraction', 'Good_Point', 'Selected_People'], dtype='object')\n",
      "Index(['Attraction', 'Good_Point', 'Selected_People'], dtype='object')\n"
     ]
    }
   ],
   "source": [
    "print(Naver_1_50.columns)\n",
    "print(Naver_51_100.columns)\n",
    "print(Naver_101_600.columns)\n",
    "print(Naver_601_1100.columns)\n",
    "print(Naver_1101_1600.columns)\n",
    "print(Naver_1601_2100.columns)"
   ]
  },
  {
   "cell_type": "markdown",
   "metadata": {},
   "source": [
    "### 붙이기"
   ]
  },
  {
   "cell_type": "code",
   "execution_count": 143,
   "metadata": {},
   "outputs": [],
   "source": [
    "dataframes = [Naver_1_50, Naver_51_100, Naver_101_600, Naver_601_1100, Naver_1101_1600, Naver_1601_2100]\n",
    "Naver_Data_2100 = pd.concat(dataframes, ignore_index=False)"
   ]
  },
  {
   "cell_type": "markdown",
   "metadata": {},
   "source": [
    "### 쌍따옴표 없애기"
   ]
  },
  {
   "cell_type": "code",
   "execution_count": 147,
   "metadata": {},
   "outputs": [
    {
     "data": {
      "text/html": [
       "<div>\n",
       "<style scoped>\n",
       "    .dataframe tbody tr th:only-of-type {\n",
       "        vertical-align: middle;\n",
       "    }\n",
       "\n",
       "    .dataframe tbody tr th {\n",
       "        vertical-align: top;\n",
       "    }\n",
       "\n",
       "    .dataframe thead th {\n",
       "        text-align: right;\n",
       "    }\n",
       "</style>\n",
       "<table border=\"1\" class=\"dataframe\">\n",
       "  <thead>\n",
       "    <tr style=\"text-align: right;\">\n",
       "      <th></th>\n",
       "      <th>Attraction</th>\n",
       "      <th>Good_Point</th>\n",
       "      <th>Selected_People</th>\n",
       "    </tr>\n",
       "  </thead>\n",
       "  <tbody>\n",
       "    <tr>\n",
       "      <th>0</th>\n",
       "      <td>동대문역사문화공원</td>\n",
       "      <td>뷰가 좋아요</td>\n",
       "      <td>이 키워드를 선택한 인원\\n22</td>\n",
       "    </tr>\n",
       "    <tr>\n",
       "      <th>1</th>\n",
       "      <td>동대문역사문화공원</td>\n",
       "      <td>관리가 잘 되어있어요</td>\n",
       "      <td>이 키워드를 선택한 인원\\n21</td>\n",
       "    </tr>\n",
       "    <tr>\n",
       "      <th>2</th>\n",
       "      <td>동대문역사문화공원</td>\n",
       "      <td>볼거리가 많아요</td>\n",
       "      <td>이 키워드를 선택한 인원\\n14</td>\n",
       "    </tr>\n",
       "  </tbody>\n",
       "</table>\n",
       "</div>"
      ],
      "text/plain": [
       "  Attraction   Good_Point    Selected_People\n",
       "0  동대문역사문화공원       뷰가 좋아요  이 키워드를 선택한 인원\\n22\n",
       "1  동대문역사문화공원  관리가 잘 되어있어요  이 키워드를 선택한 인원\\n21\n",
       "2  동대문역사문화공원     볼거리가 많아요  이 키워드를 선택한 인원\\n14"
      ]
     },
     "execution_count": 147,
     "metadata": {},
     "output_type": "execute_result"
    }
   ],
   "source": [
    "Naver_Data_2100['Good_Point'] = Naver_Data_2100['Good_Point'].str.replace(r'\"', '',)\n",
    "Naver_Data_2100.head(3)"
   ]
  },
  {
   "cell_type": "markdown",
   "metadata": {},
   "source": [
    "### 셀렉트 피플 숫자만 뽑기"
   ]
  },
  {
   "cell_type": "code",
   "execution_count": 180,
   "metadata": {},
   "outputs": [
    {
     "data": {
      "text/html": [
       "<div>\n",
       "<style scoped>\n",
       "    .dataframe tbody tr th:only-of-type {\n",
       "        vertical-align: middle;\n",
       "    }\n",
       "\n",
       "    .dataframe tbody tr th {\n",
       "        vertical-align: top;\n",
       "    }\n",
       "\n",
       "    .dataframe thead th {\n",
       "        text-align: right;\n",
       "    }\n",
       "</style>\n",
       "<table border=\"1\" class=\"dataframe\">\n",
       "  <thead>\n",
       "    <tr style=\"text-align: right;\">\n",
       "      <th></th>\n",
       "      <th>Attraction</th>\n",
       "      <th>Good_Point</th>\n",
       "      <th>Selected_People</th>\n",
       "    </tr>\n",
       "  </thead>\n",
       "  <tbody>\n",
       "    <tr>\n",
       "      <th>0</th>\n",
       "      <td>동대문역사문화공원</td>\n",
       "      <td>뷰가 좋아요</td>\n",
       "      <td>22</td>\n",
       "    </tr>\n",
       "    <tr>\n",
       "      <th>1</th>\n",
       "      <td>동대문역사문화공원</td>\n",
       "      <td>관리가 잘 되어있어요</td>\n",
       "      <td>21</td>\n",
       "    </tr>\n",
       "    <tr>\n",
       "      <th>2</th>\n",
       "      <td>동대문역사문화공원</td>\n",
       "      <td>볼거리가 많아요</td>\n",
       "      <td>14</td>\n",
       "    </tr>\n",
       "  </tbody>\n",
       "</table>\n",
       "</div>"
      ],
      "text/plain": [
       "  Attraction   Good_Point Selected_People\n",
       "0  동대문역사문화공원       뷰가 좋아요              22\n",
       "1  동대문역사문화공원  관리가 잘 되어있어요              21\n",
       "2  동대문역사문화공원     볼거리가 많아요              14"
      ]
     },
     "execution_count": 180,
     "metadata": {},
     "output_type": "execute_result"
    }
   ],
   "source": [
    "# 정규식 표현 r을 안붙여도 되지만 에러가 뜸\n",
    "Naver_Data_2100['Selected_People'] = Naver_Data_2100['Selected_People'].str.extract(r'(\\d+)')\n",
    "Naver_Data_2100.head(3)"
   ]
  },
  {
   "cell_type": "code",
   "execution_count": 181,
   "metadata": {},
   "outputs": [],
   "source": [
    "Naver_Data_2100['Selected_People'] = Naver_Data_2100['Selected_People'].str.extract(r'(\\d+)', expand=False).str.strip()"
   ]
  },
  {
   "cell_type": "code",
   "execution_count": 182,
   "metadata": {},
   "outputs": [
    {
     "data": {
      "text/html": [
       "<div>\n",
       "<style scoped>\n",
       "    .dataframe tbody tr th:only-of-type {\n",
       "        vertical-align: middle;\n",
       "    }\n",
       "\n",
       "    .dataframe tbody tr th {\n",
       "        vertical-align: top;\n",
       "    }\n",
       "\n",
       "    .dataframe thead th {\n",
       "        text-align: right;\n",
       "    }\n",
       "</style>\n",
       "<table border=\"1\" class=\"dataframe\">\n",
       "  <thead>\n",
       "    <tr style=\"text-align: right;\">\n",
       "      <th></th>\n",
       "      <th>Attraction</th>\n",
       "      <th>Good_Point</th>\n",
       "      <th>Selected_People</th>\n",
       "    </tr>\n",
       "  </thead>\n",
       "  <tbody>\n",
       "  </tbody>\n",
       "</table>\n",
       "</div>"
      ],
      "text/plain": [
       "Empty DataFrame\n",
       "Columns: [Attraction, Good_Point, Selected_People]\n",
       "Index: []"
      ]
     },
     "execution_count": 182,
     "metadata": {},
     "output_type": "execute_result"
    }
   ],
   "source": [
    "non_numeric_rows = Naver_Data_2100[~Naver_Data_2100['Selected_People'].str.contains(r'^\\d+$', regex=True)]\n",
    "non_numeric_rows"
   ]
  },
  {
   "cell_type": "markdown",
   "metadata": {},
   "source": [
    "### Nan 확인"
   ]
  },
  {
   "cell_type": "code",
   "execution_count": 183,
   "metadata": {},
   "outputs": [
    {
     "data": {
      "text/plain": [
       "Attraction         0\n",
       "Good_Point         0\n",
       "Selected_People    0\n",
       "dtype: int64"
      ]
     },
     "execution_count": 183,
     "metadata": {},
     "output_type": "execute_result"
    }
   ],
   "source": [
    "Naver_Data_2100.isnull().sum()"
   ]
  },
  {
   "cell_type": "code",
   "execution_count": 185,
   "metadata": {},
   "outputs": [],
   "source": [
    "Naver_Data_2100.to_csv('Naver_Data_2100.csv', encoding='cp949',index=False)"
   ]
  }
 ],
 "metadata": {
  "kernelspec": {
   "display_name": "Python 3",
   "language": "python",
   "name": "python3"
  },
  "language_info": {
   "codemirror_mode": {
    "name": "ipython",
    "version": 3
   },
   "file_extension": ".py",
   "mimetype": "text/x-python",
   "name": "python",
   "nbconvert_exporter": "python",
   "pygments_lexer": "ipython3",
   "version": "3.12.0"
  }
 },
 "nbformat": 4,
 "nbformat_minor": 2
}
